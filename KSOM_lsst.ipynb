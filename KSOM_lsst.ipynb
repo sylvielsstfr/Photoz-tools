{
 "cells": [
  {
   "cell_type": "markdown",
   "id": "c1435024-2bd2-47de-b520-fcd3fa471a40",
   "metadata": {},
   "source": [
    "# Kohonen SOM on PhotoZ"
   ]
  },
  {
   "cell_type": "markdown",
   "id": "9e409d48-6f24-4095-a6dc-61437a0aa0f2",
   "metadata": {},
   "source": [
    "- author : Sylvie Dagoret-Campagne\n",
    "- affiliation : IJCLab\n",
    "- creation date : 2022 04 16"
   ]
  },
  {
   "cell_type": "code",
   "execution_count": null,
   "id": "3d9c8f96-670e-4531-90db-0175bd76583a",
   "metadata": {},
   "outputs": [],
   "source": [
    "%load_ext autoreload\n",
    "%autoreload 2"
   ]
  },
  {
   "cell_type": "code",
   "execution_count": null,
   "id": "8b88513f-6984-4376-9ac0-19863bfa0609",
   "metadata": {},
   "outputs": [],
   "source": [
    "# pip install minisom"
   ]
  },
  {
   "cell_type": "code",
   "execution_count": null,
   "id": "51e11d96-469e-42d8-8ca6-ad5d35b0b892",
   "metadata": {},
   "outputs": [],
   "source": [
    "%matplotlib inline\n",
    "import numpy as np\n",
    "from matplotlib.ticker import FormatStrFormatter\n",
    "import matplotlib.pyplot as plt\n",
    "from scipy.interpolate import InterpolatedUnivariateSpline, interp1d\n",
    "from scipy.special import erfc\n",
    "import pandas as pd\n",
    "import seaborn as sns \n",
    "import itertools\n",
    "sns.set_style(\"white\")\n",
    "sns.set_context(\"notebook\", font_scale=1.0, rc={\"lines.linewidth\": 2.5})\n",
    "sns.set_palette(sns.color_palette([\"#9b59b6\", \"#95a5a6\", \n",
    "                                   \"#e74c3c\", \"#3498db\", \n",
    "                                   \"#34495e\", \"#2ecc71\"]))"
   ]
  },
  {
   "cell_type": "code",
   "execution_count": null,
   "id": "a34add36-fa50-4dcd-a7ac-f78ae749e7fa",
   "metadata": {},
   "outputs": [],
   "source": [
    "from minisom import MiniSom"
   ]
  },
  {
   "cell_type": "code",
   "execution_count": null,
   "id": "1c385575-e693-4fc3-a9cd-ecf9b54edc81",
   "metadata": {},
   "outputs": [],
   "source": [
    "# Set up some plotting defaults:\n",
    "\n",
    "params = {'axes.labelsize': 28,\n",
    "          'font.size': 24,\n",
    "          'legend.fontsize': 14,\n",
    "          'xtick.major.width': 3,\n",
    "          'xtick.minor.width': 2,\n",
    "          'xtick.major.size': 12,\n",
    "          'xtick.minor.size': 6,\n",
    "          'xtick.direction': 'in',\n",
    "          'xtick.top': True,\n",
    "          'lines.linewidth': 3,\n",
    "          'axes.linewidth': 3,\n",
    "          'axes.labelweight': 3,\n",
    "          'axes.titleweight': 3,\n",
    "          'ytick.major.width': 3,\n",
    "          'ytick.minor.width': 2,\n",
    "          'ytick.major.size': 12,\n",
    "          'ytick.minor.size': 6,\n",
    "          'ytick.direction': 'in',\n",
    "          'ytick.left': True,\n",
    "          'figure.figsize': [18, 10],\n",
    "          'figure.facecolor': 'White'\n",
    "          }\n",
    "\n",
    "plt.rcParams.update(params)"
   ]
  },
  {
   "cell_type": "code",
   "execution_count": null,
   "id": "91c3b56e-1131-4248-8086-08c37d727462",
   "metadata": {},
   "outputs": [],
   "source": [
    "df =pd.read_csv(\"mock_lsst.csv\",index_col=0)"
   ]
  },
  {
   "cell_type": "code",
   "execution_count": null,
   "id": "5b5ac426-4c33-4cd9-aed2-ff6ae049eb4f",
   "metadata": {},
   "outputs": [],
   "source": [
    "df"
   ]
  },
  {
   "cell_type": "code",
   "execution_count": null,
   "id": "838f6be6-0486-4f44-91ab-21861112c426",
   "metadata": {},
   "outputs": [],
   "source": [
    "target=df[\"types\"].values"
   ]
  },
  {
   "cell_type": "code",
   "execution_count": null,
   "id": "5cc484ec-9781-47de-923c-382b829c72b1",
   "metadata": {},
   "outputs": [],
   "source": [
    "np.unique(target)"
   ]
  },
  {
   "cell_type": "code",
   "execution_count": null,
   "id": "3bbaa9a8-d456-44b0-8acc-0679b8fecd0f",
   "metadata": {},
   "outputs": [],
   "source": [
    "label_names=np.unique(df[\"typenames\"].values)\n",
    "label_names"
   ]
  },
  {
   "cell_type": "code",
   "execution_count": null,
   "id": "27e86e91-0c7e-4134-afdc-50368af3030a",
   "metadata": {},
   "outputs": [],
   "source": [
    "df[\"u-g\"] = df[\"m_obs_u\"]-df[\"m_obs_g\"]\n",
    "df[\"g-r\"] = df[\"m_obs_g\"]-df[\"m_obs_r\"]\n",
    "df[\"r-i\"] = df[\"m_obs_r\"]-df[\"m_obs_i\"]\n",
    "df[\"i-z\"] = df[\"m_obs_i\"]-df[\"m_obs_z\"]\n",
    "df[\"z-y\"] = df[\"m_obs_z\"]-df[\"m_obs_y\"]"
   ]
  },
  {
   "cell_type": "code",
   "execution_count": null,
   "id": "7cf710bb-7834-4c5e-ac51-98fa4a6c01d0",
   "metadata": {},
   "outputs": [],
   "source": [
    "data=df[ [\"u-g\",\"g-r\",\"r-i\",\"i-z\",\"z-y\"] ]"
   ]
  },
  {
   "cell_type": "code",
   "execution_count": null,
   "id": "a9635fac-956b-4ae7-bde2-55a6435517eb",
   "metadata": {},
   "outputs": [],
   "source": [
    "data "
   ]
  },
  {
   "cell_type": "code",
   "execution_count": null,
   "id": "507abfb6-1576-4d13-9e08-cc22f4af4834",
   "metadata": {},
   "outputs": [],
   "source": [
    "data = (data - np.mean(data, axis=0)) / np.std(data, axis=0)"
   ]
  },
  {
   "cell_type": "code",
   "execution_count": null,
   "id": "b52efeec-306a-4ba8-96df-d8ad4c1007ad",
   "metadata": {},
   "outputs": [],
   "source": [
    "data = data.values"
   ]
  },
  {
   "cell_type": "code",
   "execution_count": null,
   "id": "ccdd411a-c51f-4af8-bf86-51524fc4314c",
   "metadata": {},
   "outputs": [],
   "source": [
    "# Initialization and training\n",
    "n_neurons = 20\n",
    "m_neurons = 20\n",
    "som = MiniSom(n_neurons, m_neurons, data.shape[1], sigma=1.5, learning_rate=.5, \n",
    "              neighborhood_function='gaussian', random_seed=0)\n",
    "\n",
    "som.pca_weights_init(data)\n",
    "som.train(data, 1000, verbose=True)  # random training"
   ]
  },
  {
   "cell_type": "code",
   "execution_count": null,
   "id": "1b305390-6a18-4508-91c8-b165b0b92f0a",
   "metadata": {},
   "outputs": [],
   "source": [
    "import matplotlib.pyplot as plt\n",
    "%matplotlib inline\n",
    "\n",
    "plt.figure(figsize=(16, 16))\n",
    "\n",
    "plt.pcolor(som.distance_map().T, cmap='bone_r')  # plotting the distance map as background\n",
    "plt.colorbar()"
   ]
  },
  {
   "cell_type": "markdown",
   "id": "985ee7ce-09f9-4eef-a122-4f1584163f9b",
   "metadata": {},
   "source": [
    "To visualize the result of the training we can plot the distance map (U-Matrix) using a pseudocolor where the neurons of the maps are displayed as an array of cells and the color represents the (weights) distance from the neighbour neurons. On top of the pseudo color we can add markers that repesent the samples mapped in the specific cells:"
   ]
  },
  {
   "cell_type": "code",
   "execution_count": null,
   "id": "e76800d3-e7e2-451a-8dfd-03154e58ce85",
   "metadata": {},
   "outputs": [],
   "source": [
    "cols = sns.color_palette(\"hls\", 8)"
   ]
  },
  {
   "cell_type": "code",
   "execution_count": null,
   "id": "4d54d088-6e43-49e4-949f-9b6e99dd37b0",
   "metadata": {},
   "outputs": [],
   "source": [
    "cols"
   ]
  },
  {
   "cell_type": "code",
   "execution_count": null,
   "id": "3b085a87-c64f-4b39-ba2c-c5507bf1cb34",
   "metadata": {},
   "outputs": [],
   "source": [
    "import matplotlib.pyplot as plt\n",
    "%matplotlib inline\n",
    "\n",
    "plt.figure(figsize=(17, 16))\n",
    "\n",
    "plt.pcolor(som.distance_map().T, cmap='bone_r')  # plotting the distance map as background\n",
    "plt.colorbar()\n",
    "\n",
    "# Plotting the response for each pattern in the iris dataset\n",
    "# different colors and markers for each label\n",
    "\n",
    "\n",
    "markers = ['o', 's', 'D', 'P', '*','v','^' ,'X' ]\n",
    "colors = ['C0', 'C1', 'C2','C3','C4','C5','C6','C7']\n",
    "#colors = cols\n",
    "\n",
    "for cnt, xx in enumerate(data):\n",
    "    w = som.winner(xx)  # getting the winner\n",
    "    # palce a marker on the winning position for the sample xx\n",
    "    plt.plot(w[0]+.5, w[1]+.5, markers[target[cnt]-1], markerfacecolor='None',\n",
    "             markeredgecolor=colors[target[cnt]-1], markersize=12, markeredgewidth=2)\n",
    "\n",
    "plt.show()"
   ]
  },
  {
   "cell_type": "markdown",
   "id": "356fe146-8c98-46f5-b5bd-a1d4ccbec5e4",
   "metadata": {},
   "source": [
    "To have an overview of how the samples are distributed across the map a scatter chart can be used where each dot represents the coordinates of the winning neuron. A random offset is added to avoid overlaps between points within the same cell."
   ]
  },
  {
   "cell_type": "code",
   "execution_count": null,
   "id": "a5206043-d4e3-40fc-ab07-38cd6d746e9d",
   "metadata": {},
   "outputs": [],
   "source": [
    "w_x, w_y = zip(*[som.winner(d) for d in data])\n",
    "w_x = np.array(w_x)\n",
    "w_y = np.array(w_y)\n",
    "\n",
    "plt.figure(figsize=(17, 16))\n",
    "plt.pcolor(som.distance_map().T, cmap='bone_r', alpha=.2)\n",
    "plt.colorbar()\n",
    "\n",
    "for c in np.unique(target):\n",
    "    idx_target = target==c\n",
    "    plt.scatter(w_x[idx_target]+.5+(np.random.rand(np.sum(idx_target))-.5)*.8,\n",
    "                w_y[idx_target]+.5+(np.random.rand(np.sum(idx_target))-.5)*.8, \n",
    "                s=10, c=colors[c-1], label=label_names[c])\n",
    "plt.legend(loc='upper right')\n",
    "plt.grid()\n",
    "plt.show()"
   ]
  },
  {
   "cell_type": "markdown",
   "id": "8cd595a3-9252-488f-a557-03821f1d214a",
   "metadata": {},
   "source": [
    "When dealing with a supervised problem, one can visualize the proportion of samples per class falling in a specific neuron using a pie chart per neuron:"
   ]
  },
  {
   "cell_type": "code",
   "execution_count": null,
   "id": "396cc892-7eec-4384-8cb7-f1ed0f4fc5e6",
   "metadata": {},
   "outputs": [],
   "source": [
    "import matplotlib.gridspec as gridspec\n",
    "\n",
    "labels_map = som.labels_map(data, [label_names[t] for t in target])\n",
    "\n",
    "fig = plt.figure(figsize=(16, 16))\n",
    "the_grid = gridspec.GridSpec(n_neurons, m_neurons, fig)\n",
    "for position in labels_map.keys():\n",
    "    label_fracs = [labels_map[position][l] for l in label_names]\n",
    "    plt.subplot(the_grid[n_neurons-1-position[1],\n",
    "                         position[0]], aspect=1)\n",
    "    patches, texts = plt.pie(label_fracs)\n",
    "\n",
    "plt.legend(patches, label_names, bbox_to_anchor=(3.5, 6.5), ncol=3)\n",
    "plt.show()"
   ]
  },
  {
   "cell_type": "markdown",
   "id": "31cfae30-d13c-42a5-8683-fc54d0942bf0",
   "metadata": {},
   "source": [
    "To have an idea of which neurons of the map are activated more often we can create another pseudocolor plot that reflects the activation frequencies:"
   ]
  },
  {
   "cell_type": "code",
   "execution_count": null,
   "id": "a58ca538-339c-419e-956e-03b1cd3285f4",
   "metadata": {},
   "outputs": [],
   "source": [
    "plt.figure(figsize=(10, 10))\n",
    "frequencies = som.activation_response(data)\n",
    "plt.pcolor(frequencies.T, cmap='Blues') \n",
    "plt.colorbar()\n",
    "plt.show()"
   ]
  },
  {
   "cell_type": "code",
   "execution_count": null,
   "id": "58aeb105-287a-46b9-bb50-6957b54782f7",
   "metadata": {},
   "outputs": [],
   "source": [
    "som = MiniSom(n_neurons, m_neurons, data.shape[1], sigma=1.5, learning_rate=.5,\n",
    "              neighborhood_function='gaussian', random_seed=10)\n",
    "\n",
    "max_iter = 1000\n",
    "q_error = []\n",
    "t_error = []\n",
    "\n",
    "for i in range(max_iter):\n",
    "    rand_i = np.random.randint(len(data))\n",
    "    som.update(data[rand_i], som.winner(data[rand_i]), i, max_iter)\n",
    "    q_error.append(som.quantization_error(data))\n",
    "    t_error.append(som.topographic_error(data))\n",
    "\n",
    "plt.figure(figsize=(12,8))\n",
    "plt.plot(np.arange(max_iter), q_error, label='quantization error')\n",
    "plt.plot(np.arange(max_iter), t_error, label='topographic error')\n",
    "plt.ylabel('error')\n",
    "plt.xlabel('iteration index')\n",
    "plt.legend()\n",
    "plt.show()"
   ]
  },
  {
   "cell_type": "code",
   "execution_count": null,
   "id": "09274e72-296a-44c9-948c-392ae8ec6041",
   "metadata": {},
   "outputs": [],
   "source": []
  }
 ],
 "metadata": {
  "kernelspec": {
   "display_name": "anaconda3_auxtel",
   "language": "python",
   "name": "anaconda3_auxtel"
  },
  "language_info": {
   "codemirror_mode": {
    "name": "ipython",
    "version": 3
   },
   "file_extension": ".py",
   "mimetype": "text/x-python",
   "name": "python",
   "nbconvert_exporter": "python",
   "pygments_lexer": "ipython3",
   "version": "3.8.5"
  }
 },
 "nbformat": 4,
 "nbformat_minor": 5
}
